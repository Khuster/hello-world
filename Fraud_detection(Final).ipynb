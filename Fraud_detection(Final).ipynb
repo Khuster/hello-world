{
  "nbformat": 4,
  "nbformat_minor": 0,
  "metadata": {
    "colab": {
      "name": "Fraud_detection(Final).ipynb",
      "version": "0.3.2",
      "provenance": [],
      "include_colab_link": true
    },
    "kernelspec": {
      "name": "python3",
      "display_name": "Python 3"
    }
  },
  "cells": [
    {
      "cell_type": "markdown",
      "metadata": {
        "id": "view-in-github",
        "colab_type": "text"
      },
      "source": [
        "<a href=\"https://colab.research.google.com/github/Khuster/hello-world/blob/master/Fraud_detection(Final).ipynb\" target=\"_parent\"><img src=\"https://colab.research.google.com/assets/colab-badge.svg\" alt=\"Open In Colab\"/></a>"
      ]
    },
    {
      "cell_type": "code",
      "metadata": {
        "id": "_wFRcuVx0DLL",
        "colab_type": "code",
        "colab": {}
      },
      "source": [
        "import pandas as pd\n",
        "import numpy as np\n",
        "import matplotlib.pyplot as plt\n",
        "import seaborn as sns\n",
        "%matplotlib inline"
      ],
      "execution_count": 0,
      "outputs": []
    },
    {
      "cell_type": "code",
      "metadata": {
        "id": "etsQk2Kr0KPU",
        "colab_type": "code",
        "colab": {}
      },
      "source": [
        "train = pd.read_csv('training.csv')"
      ],
      "execution_count": 0,
      "outputs": []
    },
    {
      "cell_type": "code",
      "metadata": {
        "id": "jn6JFFSc0OCT",
        "colab_type": "code",
        "colab": {}
      },
      "source": [
        "train.drop(['TransactionId','BatchId','AccountId','SubscriptionId','CustomerId','CurrencyCode','TransactionStartTime'],axis=1,inplace=True)"
      ],
      "execution_count": 0,
      "outputs": []
    },
    {
      "cell_type": "code",
      "metadata": {
        "id": "MkQQ7Pjk0Spj",
        "colab_type": "code",
        "colab": {}
      },
      "source": [
        "train.drop(['ProductId'],axis=1,inplace=True)"
      ],
      "execution_count": 0,
      "outputs": []
    },
    {
      "cell_type": "code",
      "metadata": {
        "id": "ouQrJuAI0V5k",
        "colab_type": "code",
        "colab": {}
      },
      "source": [
        "product_category = pd.get_dummies(train['ProductCategory'],drop_first=True)\n",
        "channel_id = pd.get_dummies(train['ChannelId'],drop_first=True)\n",
        "Provider_id = pd.get_dummies(train['ProviderId'],drop_first=True)"
      ],
      "execution_count": 0,
      "outputs": []
    },
    {
      "cell_type": "code",
      "metadata": {
        "id": "PdXz6FdY0baM",
        "colab_type": "code",
        "colab": {}
      },
      "source": [
        "f_train = pd.concat([train,product_category,channel_id,Provider_id],axis=1)"
      ],
      "execution_count": 0,
      "outputs": []
    },
    {
      "cell_type": "code",
      "metadata": {
        "id": "c93bdlRe1D-c",
        "colab_type": "code",
        "colab": {}
      },
      "source": [
        "f_train.drop(['ProviderId','ProductCategory','ChannelId'], axis=1,inplace=True)"
      ],
      "execution_count": 0,
      "outputs": []
    },
    {
      "cell_type": "code",
      "metadata": {
        "id": "YoE26sys1sFt",
        "colab_type": "code",
        "colab": {
          "base_uri": "https://localhost:8080/",
          "height": 119
        },
        "outputId": "36898b6a-6e69-445e-dd71-a1f31f86cac6"
      },
      "source": [
        "f_train.columns"
      ],
      "execution_count": 19,
      "outputs": [
        {
          "output_type": "execute_result",
          "data": {
            "text/plain": [
              "Index(['CountryCode', 'Amount', 'Value', 'PricingStrategy', 'FraudResult',\n",
              "       'data_bundles', 'financial_services', 'movies', 'other', 'ticket',\n",
              "       'transport', 'tv', 'utility_bill', 'ChannelId_2', 'ChannelId_3',\n",
              "       'ChannelId_5', 'ProviderId_2', 'ProviderId_3', 'ProviderId_4',\n",
              "       'ProviderId_5', 'ProviderId_6'],\n",
              "      dtype='object')"
            ]
          },
          "metadata": {
            "tags": []
          },
          "execution_count": 19
        }
      ]
    },
    {
      "cell_type": "code",
      "metadata": {
        "id": "UYe_n-zL2S4u",
        "colab_type": "code",
        "colab": {}
      },
      "source": [
        "#Building a model\n",
        "from sklearn.model_selection import train_test_split\n",
        "\n",
        "X = f_train[['CountryCode', 'Amount', 'Value', 'PricingStrategy',\n",
        "       'data_bundles', 'financial_services', 'movies', 'other', 'ticket',\n",
        "       'transport', 'tv', 'utility_bill', 'ChannelId_2', 'ChannelId_3',\n",
        "       'ChannelId_5', 'ProviderId_2', 'ProviderId_3', 'ProviderId_4',\n",
        "       'ProviderId_5', 'ProviderId_6']]\n",
        "\n",
        "y = f_train ['FraudResult']"
      ],
      "execution_count": 0,
      "outputs": []
    },
    {
      "cell_type": "code",
      "metadata": {
        "id": "7HjIdvjj3433",
        "colab_type": "code",
        "colab": {}
      },
      "source": [
        "X_train, X_test, y_train, y_test = train_test_split(X, y, test_size=0.3, random_state=99)"
      ],
      "execution_count": 0,
      "outputs": []
    },
    {
      "cell_type": "code",
      "metadata": {
        "id": "jeLltcr44o3k",
        "colab_type": "code",
        "colab": {}
      },
      "source": [
        "from sklearn.ensemble import AdaBoostClassifier "
      ],
      "execution_count": 0,
      "outputs": []
    },
    {
      "cell_type": "code",
      "metadata": {
        "id": "MZWJDRCC5HPZ",
        "colab_type": "code",
        "colab": {}
      },
      "source": [
        "AB_Classifier = AdaBoostClassifier()"
      ],
      "execution_count": 0,
      "outputs": []
    },
    {
      "cell_type": "code",
      "metadata": {
        "id": "3UEQHGvE5PbB",
        "colab_type": "code",
        "colab": {
          "base_uri": "https://localhost:8080/",
          "height": 51
        },
        "outputId": "7385ffe6-1cd4-46db-ebf1-8390dfc25b9f"
      },
      "source": [
        "AB_Classifier.fit(X_train,y_train)"
      ],
      "execution_count": 26,
      "outputs": [
        {
          "output_type": "execute_result",
          "data": {
            "text/plain": [
              "AdaBoostClassifier(algorithm='SAMME.R', base_estimator=None, learning_rate=1.0,\n",
              "                   n_estimators=50, random_state=None)"
            ]
          },
          "metadata": {
            "tags": []
          },
          "execution_count": 26
        }
      ]
    },
    {
      "cell_type": "code",
      "metadata": {
        "id": "P3JSCqsQ5ZvZ",
        "colab_type": "code",
        "colab": {}
      },
      "source": [
        "predictions = AB_Classifier.predict(X_test)"
      ],
      "execution_count": 0,
      "outputs": []
    },
    {
      "cell_type": "code",
      "metadata": {
        "id": "Qs4SbA155puR",
        "colab_type": "code",
        "colab": {
          "base_uri": "https://localhost:8080/",
          "height": 170
        },
        "outputId": "6f6ee4bb-1c4c-4c89-f88f-1852944607c0"
      },
      "source": [
        "#Evaluating our Model\n",
        "from sklearn.metrics import classification_report\n",
        "print(classification_report(y_test,predictions))"
      ],
      "execution_count": 28,
      "outputs": [
        {
          "output_type": "stream",
          "text": [
            "              precision    recall  f1-score   support\n",
            "\n",
            "           0       1.00      1.00      1.00     28624\n",
            "           1       0.98      0.76      0.86        75\n",
            "\n",
            "    accuracy                           1.00     28699\n",
            "   macro avg       0.99      0.88      0.93     28699\n",
            "weighted avg       1.00      1.00      1.00     28699\n",
            "\n"
          ],
          "name": "stdout"
        }
      ]
    },
    {
      "cell_type": "code",
      "metadata": {
        "id": "BxN8e3ZX57T6",
        "colab_type": "code",
        "colab": {}
      },
      "source": [
        ""
      ],
      "execution_count": 0,
      "outputs": []
    }
  ]
}